{
  "cells": [
    {
      "cell_type": "markdown",
      "metadata": {
        "colab_type": "text",
        "id": "view-in-github"
      },
      "source": [
        "<a href=\"https://colab.research.google.com/github/jmoussa99/DS-HW/blob/main/HW3.ipynb\" target=\"_parent\"><img src=\"https://colab.research.google.com/assets/colab-badge.svg\" alt=\"Open In Colab\"/></a>"
      ]
    },
    {
      "cell_type": "markdown",
      "metadata": {
        "id": "7md5x4TdByf8"
      },
      "source": [
        "## [Jamal Moussa, XRZ2515]"
      ]
    },
    {
      "cell_type": "markdown",
      "metadata": {
        "id": "43jhufm2vk7W"
      },
      "source": [
        "# Obtain the data"
      ]
    },
    {
      "cell_type": "code",
      "execution_count": 16,
      "metadata": {
        "id": "5LQHoJwTvk7X"
      },
      "outputs": [],
      "source": [
        "#Run this code block, Don't change anything\n",
        "from sklearn import datasets\n",
        "from sklearn.model_selection import train_test_split\n",
        "cal = datasets.fetch_california_housing()\n",
        "X = cal.data\n",
        "y = cal.target\n",
        "X_train, X_test, y_train, y_test = train_test_split(X,y,test_size=0.2,random_state=0)\n",
        "y_bool_train = [i > 1.8 for i in y_train]\n",
        "y_bool_test = [i > 1.8 for i in y_test]"
      ]
    },
    {
      "cell_type": "markdown",
      "metadata": {
        "id": "y63gtwZXvk7Y"
      },
      "source": [
        "# Q1"
      ]
    },
    {
      "cell_type": "markdown",
      "metadata": {
        "id": "MXbOte8bvk7Y"
      },
      "source": [
        "### Q1a."
      ]
    },
    {
      "cell_type": "code",
      "execution_count": null,
      "metadata": {
        "id": "t8Sxe3HNvk7Z"
      },
      "outputs": [],
      "source": [
        "#TODO\n",
        "def Q1o():\n",
        "  from sklearn.ensemble import GradientBoostingRegressor\n",
        "  from sklearn.model_selection import GridSearchCV\n",
        "  import numpy as np\n",
        "  \n",
        "  # Define the parameter grid\n",
        "  param = {\n",
        "    'learning_rate': np.arange(0.01, 0.06, 0.01),  # 0.01 to 0.05 with step 0.01\n",
        "    'max_depth': np.arange(1, 12, 2),  # 1 to 11 with step 2\n",
        "    'n_estimators': [500]\n",
        "  }\n",
        "  \n",
        "  # Create GradientBoostingRegressor\n",
        "  gbr = GradientBoostingRegressor(random_state=0)\n",
        "  \n",
        "  # Create GridSearchCV object\n",
        "  grid_searchCV = GridSearchCV(gbr, param, cv=5, scoring='r2', n_jobs=-1)\n",
        "  \n",
        "  # Fit on training data\n",
        "  grid_searchCV.fit(X_train, y_train)\n",
        "  \n",
        "  return grid_searchCV"
      ]
    },
    {
      "cell_type": "code",
      "execution_count": 18,
      "metadata": {
        "id": "UlIE2ElJfzX_"
      },
      "outputs": [],
      "source": [
        "gbr_model=Q1o()"
      ]
    },
    {
      "cell_type": "code",
      "execution_count": 19,
      "metadata": {
        "id": "Eg9v41Q2f8b2"
      },
      "outputs": [],
      "source": [
        "#TODO\n",
        "def Q1a():\n",
        "  # Get the best parameters from the grid search\n",
        "  best_params = gbr_model.best_params_\n",
        "  \n",
        "  # Get the score on testing data\n",
        "  test_score = gbr_model.score(X_test, y_test)\n",
        "  \n",
        "  return (best_params, test_score)"
      ]
    },
    {
      "cell_type": "code",
      "execution_count": 20,
      "metadata": {
        "id": "86lfcxkHf_eK"
      },
      "outputs": [
        {
          "data": {
            "text/plain": [
              "({'learning_rate': np.float64(0.05),\n",
              "  'max_depth': np.int64(7),\n",
              "  'n_estimators': 500},\n",
              " 0.8459064924522686)"
            ]
          },
          "execution_count": 20,
          "metadata": {},
          "output_type": "execute_result"
        }
      ],
      "source": [
        "Q1a()"
      ]
    },
    {
      "cell_type": "markdown",
      "metadata": {
        "id": "EzQGNe_qvk7a"
      },
      "source": [
        "### Q1b."
      ]
    },
    {
      "cell_type": "markdown",
      "metadata": {
        "id": "ff44sT38vk7a"
      },
      "source": [
        "#### plot"
      ]
    },
    {
      "cell_type": "code",
      "execution_count": 21,
      "metadata": {
        "id": "kxL0UkE-vk7a"
      },
      "outputs": [],
      "source": [
        "#TODO\n",
        "def Q1b():\n",
        "  import matplotlib.pyplot as plt\n",
        "  import numpy as np\n",
        "  import pandas as pd\n",
        "  \n",
        "  # Extract results from grid search\n",
        "  results = gbr_model.cv_results_\n",
        "  \n",
        "  # Create a DataFrame for easier manipulation\n",
        "  df = pd.DataFrame({\n",
        "    'learning_rate': results['param_learning_rate'],\n",
        "    'max_depth': results['param_max_depth'],\n",
        "    'mean_test_score': results['mean_test_score']\n",
        "  })\n",
        "  \n",
        "  # Create the plot\n",
        "  plt.figure(figsize=(12, 6))\n",
        "  \n",
        "  # Plot 1: R² vs Learning Rate (different lines for each max_depth)\n",
        "  plt.subplot(1, 2, 1)\n",
        "  for depth in sorted(df['max_depth'].unique()):\n",
        "    data = df[df['max_depth'] == depth]\n",
        "    plt.plot(data['learning_rate'], data['mean_test_score'], marker='o', label=f'max_depth={depth}')\n",
        "\n",
        "  plt.xlabel('Learning Rate')\n",
        "  plt.ylabel('R² Score (CV)')\n",
        "  plt.title('R² Score vs Learning Rate')\n",
        "  plt.legend()\n",
        "  plt.grid(True, alpha=0.3)\n",
        "  \n",
        "  # Plot 2: R² vs Max Depth (different lines for each learning_rate)\n",
        "  plt.subplot(1, 2, 2)\n",
        "  for lr in sorted(df['learning_rate'].unique()):\n",
        "    data = df[df['learning_rate'] == lr]\n",
        "    plt.plot(data['max_depth'], data['mean_test_score'], marker='o', label=f'lr={lr:.2f}')\n",
        "  \n",
        "  plt.xlabel('Max Depth')\n",
        "  plt.ylabel('R² Score (CV)')\n",
        "  plt.title('R² Score vs Max Depth')\n",
        "  plt.legend()\n",
        "  plt.grid(True, alpha=0.3)\n",
        "  \n",
        "  plt.tight_layout()\n",
        "  plt.show()"
      ]
    },
    {
      "cell_type": "code",
      "execution_count": 22,
      "metadata": {
        "id": "l5ctKtcsgU3b"
      },
      "outputs": [
        {
          "data": {
            "image/png": "[encoded data removed]",
            "text/plain": [
              "<Figure size 1200x600 with 2 Axes>"
            ]
          },
          "metadata": {},
          "output_type": "display_data"
        }
      ],
      "source": [
        "Q1b()"
      ]
    },
    {
      "cell_type": "markdown",
      "metadata": {
        "id": "BHEejcBOvk7a"
      },
      "source": [
        "#### conclusion"
      ]
    },
    {
      "cell_type": "code",
      "execution_count": 23,
      "metadata": {
        "id": "RnEVg9civk7b"
      },
      "outputs": [],
      "source": [
        "#TODO\n",
        "def Q1b_finding():\n",
        "  finding=\"\"\"\n",
        "  From the line plots, we can observe the following trends:\n",
        "  \n",
        "  1. Learning Rate Effect: As the learning rate increases from 0.01 to 0.05, the R² score generally \n",
        "     improves across most max_depth values. Higher learning rates allow the model to learn faster and \n",
        "     achieve better performance within the same number of estimators.\n",
        "  \n",
        "  2. Max Depth Effect: As max_depth increases, the R² score generally improves, especially moving from \n",
        "     shallow trees (depth 1-3) to moderate depths (depth 5-7). However, the improvement tends to plateau \n",
        "     at higher depths (9-11), suggesting diminishing returns from overly complex trees.\n",
        "  \n",
        "  3. Interaction: The best performance is achieved with a combination of higher learning rate and \n",
        "     moderate to high max_depth. The lines show that models with very shallow trees (depth=1) perform \n",
        "     poorly regardless of learning rate, while deeper trees benefit more from higher learning rates.\n",
        "  \n",
        "  4. Overall Trend: The R² scores increase as we move towards higher values of both parameters, but \n",
        "     there appears to be an optimal region where the parameters balance model complexity and learning speed.\n",
        "  \"\"\"\n",
        "  return finding"
      ]
    },
    {
      "cell_type": "code",
      "execution_count": 24,
      "metadata": {
        "id": "GIYCp_C2gfu-"
      },
      "outputs": [
        {
          "data": {
            "text/plain": [
              "'As the learning rate increases from 0.01 to 0.05 with a step size of 0.01, the R² score generally improves across most max_depth values. Higher learning rates allow the model to learn faster As max_depth increases, the R² score generally improves, but the improvement tends to plateau at around a depth of 7, suggesting diminishing returns from overly complex trees. Overall the most optimal parameters are learning rate = 0.5, max depth = 7 and n estimators = 500'"
            ]
          },
          "execution_count": 24,
          "metadata": {},
          "output_type": "execute_result"
        }
      ],
      "source": [
        "Q1b_finding()"
      ]
    },
    {
      "cell_type": "markdown",
      "metadata": {
        "id": "VpETIf60vk7b"
      },
      "source": [
        "### Q1c."
      ]
    },
    {
      "cell_type": "code",
      "execution_count": null,
      "metadata": {
        "id": "3JBLBautvk7b"
      },
      "outputs": [],
      "source": [
        "#TODO\n",
        "def Q1c_finding():\n",
        "  finding=\"\"\"\n",
        "  To further improve the performance of the Gradient Boosting Regressor model, I would consider the following approaches:\n",
        "  \n",
        "  1. Tune Additional Hyperparameters:\n",
        "     - n_estimators: Increase the number of boosting stages (e.g., test 100, 200, 500, 1000). More trees \n",
        "       can improve performance but increase training time.\n",
        "     - min_samples_split: Control the minimum samples required to split an internal node (e.g., 2, 5, 10).\n",
        "     - min_samples_leaf: Set minimum samples required at leaf nodes to prevent overfitting.\n",
        "     - subsample: Implement stochastic gradient boosting by using a fraction of samples (e.g., 0.8, 0.9).\n",
        "     - max_features: Limit features considered at each split to add randomness and reduce overfitting.\n",
        "  \n",
        "  2. Extend Search Range:\n",
        "     - Try learning rates beyond 0.05 (e.g., 0.1, 0.2) with appropriate adjustment to n_estimators.\n",
        "     - Test deeper trees (max_depth > 11) if computational resources allow.\n",
        "  \n",
        "  3. Feature Engineering:\n",
        "     - Create interaction features between existing variables.\n",
        "     - Apply polynomial features to capture non-linear relationships.\n",
        "     - Create domain-specific features (e.g., for housing: price per room, location density).\n",
        "  \n",
        "  4. Data Preprocessing:\n",
        "     - Feature scaling/standardization (though GBR is relatively robust to this).\n",
        "     - Handle outliers that might be affecting model performance.\n",
        "     - Check for and handle missing values if any exist.\n",
        "  \n",
        "  5. Advanced Techniques:\n",
        "     - Use different loss functions (e.g., Huber loss for robustness to outliers).\n",
        "     - Implement early stopping with validation set to prevent overfitting.\n",
        "     - Try other gradient boosting implementations (XGBoost, LightGBM, CatBoost) which often have \n",
        "       better performance and speed.\n",
        "  \n",
        "  6. Ensemble Methods:\n",
        "     - Combine predictions from multiple models (e.g., GBR + Random Forest + Ridge Regression).\n",
        "     - Use stacking or blending techniques.\n",
        "  \n",
        "  7. Cross-Validation Strategy:\n",
        "     - Use more folds (e.g., 10-fold CV) for more reliable performance estimates.\n",
        "     - Try stratified splits if target distribution is imbalanced.\n",
        "  \n",
        "  The most impactful next steps would likely be: (1) tuning n_estimators along with learning_rate, \n",
        "  (2) adding subsample parameter for stochastic boosting, and (3) trying more advanced gradient \n",
        "  boosting libraries like XGBoost or LightGBM.\n",
        "  \"\"\"\n",
        "  return finding"
      ]
    },
    {
      "cell_type": "code",
      "execution_count": 26,
      "metadata": {
        "id": "Dxi74nnkgoQC"
      },
      "outputs": [
        {
          "data": {
            "text/plain": [
              "'\\n  To further improve the performance of the Gradient Boosting Regressor model, I would consider the following approaches:\\n  \\n  1. Tune Additional Hyperparameters:\\n     - n_estimators: Increase the number of boosting stages (e.g., test 100, 200, 500, 1000). More trees \\n       can improve performance but increase training time.\\n     - min_samples_split: Control the minimum samples required to split an internal node (e.g., 2, 5, 10).\\n     - min_samples_leaf: Set minimum samples required at leaf nodes to prevent overfitting.\\n     - subsample: Implement stochastic gradient boosting by using a fraction of samples (e.g., 0.8, 0.9).\\n     - max_features: Limit features considered at each split to add randomness and reduce overfitting.\\n  \\n  2. Extend Search Range:\\n     - Try learning rates beyond 0.05 (e.g., 0.1, 0.2) with appropriate adjustment to n_estimators.\\n     - Test deeper trees (max_depth > 11) if computational resources allow.\\n  \\n  3. Feature Engineering:\\n     - Create interaction features between existing variables.\\n     - Apply polynomial features to capture non-linear relationships.\\n     - Create domain-specific features (e.g., for housing: price per room, location density).\\n  \\n  4. Data Preprocessing:\\n     - Feature scaling/standardization (though GBR is relatively robust to this).\\n     - Handle outliers that might be affecting model performance.\\n     - Check for and handle missing values if any exist.\\n  \\n  5. Advanced Techniques:\\n     - Use different loss functions (e.g., Huber loss for robustness to outliers).\\n     - Implement early stopping with validation set to prevent overfitting.\\n     - Try other gradient boosting implementations (XGBoost, LightGBM, CatBoost) which often have \\n       better performance and speed.\\n  \\n  6. Ensemble Methods:\\n     - Combine predictions from multiple models (e.g., GBR + Random Forest + Ridge Regression).\\n     - Use stacking or blending techniques.\\n  \\n  7. Cross-Validation Strategy:\\n     - Use more folds (e.g., 10-fold CV) for more reliable performance estimates.\\n     - Try stratified splits if target distribution is imbalanced.\\n  \\n  The most impactful next steps would likely be: (1) tuning n_estimators along with learning_rate, \\n  (2) adding subsample parameter for stochastic boosting, and (3) trying more advanced gradient \\n  boosting libraries like XGBoost or LightGBM.\\n  '"
            ]
          },
          "execution_count": 26,
          "metadata": {},
          "output_type": "execute_result"
        }
      ],
      "source": [
        "Q1c_finding()"
      ]
    },
    {
      "cell_type": "markdown",
      "metadata": {
        "id": "-lxz1xQZvk7b"
      },
      "source": [
        "# Q2."
      ]
    },
    {
      "cell_type": "markdown",
      "metadata": {
        "id": "E0PWz4h5vk7b"
      },
      "source": [
        "### Q2a."
      ]
    },
    {
      "cell_type": "code",
      "execution_count": 27,
      "metadata": {
        "id": "NkaeTDWcvk7b"
      },
      "outputs": [],
      "source": [
        "#TODO\n",
        "def Q2a():\n",
        "  from sklearn.linear_model import LogisticRegression\n",
        "  from sklearn.tree import DecisionTreeClassifier\n",
        "  from sklearn.neighbors import KNeighborsClassifier\n",
        "  from sklearn.model_selection import cross_val_score\n",
        "  import numpy as np\n",
        "  \n",
        "  # Initialize models with specified parameters\n",
        "  lr = LogisticRegression(solver='liblinear', random_state=0)\n",
        "  dt = DecisionTreeClassifier(random_state=0)\n",
        "  knn = KNeighborsClassifier()\n",
        "  \n",
        "  # Perform cross-validation for each model\n",
        "  lr_scores = cross_val_score(lr, X_train, y_bool_train, cv=5, scoring='f1')\n",
        "  dt_scores = cross_val_score(dt, X_train, y_bool_train, cv=5, scoring='f1')\n",
        "  knn_scores = cross_val_score(knn, X_train, y_bool_train, cv=5, scoring='f1')\n",
        "  \n",
        "  # Calculate mean scores\n",
        "  lr_mean = np.mean(lr_scores)\n",
        "  dt_mean = np.mean(dt_scores)\n",
        "  knn_mean = np.mean(knn_scores)\n",
        "  \n",
        "  # Return list of tuples\n",
        "  results = [\n",
        "    ('Logistic Regression', lr_mean),\n",
        "    ('Decision Tree', dt_mean),\n",
        "    ('KNN', knn_mean)\n",
        "  ]\n",
        "  \n",
        "  return results"
      ]
    },
    {
      "cell_type": "code",
      "execution_count": 28,
      "metadata": {
        "id": "-3E7cKbOgwCO"
      },
      "outputs": [
        {
          "data": {
            "text/plain": [
              "[('Logistic Regression', np.float64(0.8059569251928537)),\n",
              " ('Decision Tree', np.float64(0.8363516237265985)),\n",
              " ('KNN', np.float64(0.6039584488384511))]"
            ]
          },
          "execution_count": 28,
          "metadata": {},
          "output_type": "execute_result"
        }
      ],
      "source": [
        "Q2a()"
      ]
    },
    {
      "cell_type": "markdown",
      "metadata": {
        "id": "ALRbNlahvk7b"
      },
      "source": [
        "### Q2b."
      ]
    },
    {
      "cell_type": "code",
      "execution_count": 29,
      "metadata": {
        "id": "F7-ITRybvk7c"
      },
      "outputs": [],
      "source": [
        "#TODO\n",
        "def Q2bo():\n",
        "  from sklearn.tree import DecisionTreeClassifier\n",
        "  from sklearn.model_selection import GridSearchCV\n",
        "  import numpy as np\n",
        "  \n",
        "  # Round 1: Broad search across multiple parameters\n",
        "  print(\"Round 1: Broad parameter search\")\n",
        "  print(\"=\" * 60)\n",
        "  \n",
        "  dt1 = DecisionTreeClassifier(random_state=0)\n",
        "  param_grid1 = {\n",
        "    'max_depth': [5, 10, 15, 20, 25, 30, None],\n",
        "    'min_samples_split': [2, 5, 10, 20],\n",
        "    'min_samples_leaf': [1, 2, 4, 8],\n",
        "    'criterion': ['gini', 'entropy']\n",
        "  }\n",
        "  \n",
        "  grid1 = GridSearchCV(dt1, param_grid1, cv=5, scoring='f1', n_jobs=-1, verbose=1)\n",
        "  grid1.fit(X_train, y_bool_train)\n",
        "  \n",
        "  print(f\"Best parameters from Round 1: {grid1.best_params_}\")\n",
        "  print(f\"Best F1 score from Round 1: {grid1.best_score_:.4f}\")\n",
        "  print()\n",
        "  \n",
        "  # Round 2: Refined search based on Round 1 results\n",
        "  # Narrowing down around the best parameters from Round 1\n",
        "  print(\"Round 2: Refined parameter search\")\n",
        "  print(\"=\" * 60)\n",
        "  \n",
        "  dt2 = DecisionTreeClassifier(random_state=0)\n",
        "  \n",
        "  # Refine search around the best parameters from Round 1\n",
        "  # Adjusting based on what typically works well for decision trees\n",
        "  param_grid2 = {\n",
        "    'max_depth': [15, 20, 25, 30, 35],\n",
        "    'min_samples_split': [2, 3, 4, 5],\n",
        "    'min_samples_leaf': [1, 2, 3],\n",
        "    'criterion': [grid1.best_params_['criterion']],  # Keep best criterion\n",
        "    'max_leaf_nodes': [None, 50, 100, 150, 200],\n",
        "    'min_impurity_decrease': [0.0, 0.0001, 0.001]\n",
        "  }\n",
        "  \n",
        "  grid2 = GridSearchCV(dt2, param_grid2, cv=5, scoring='f1', n_jobs=-1, verbose=1)\n",
        "  grid2.fit(X_train, y_bool_train)\n",
        "  \n",
        "  print(f\"Best parameters from Round 2: {grid2.best_params_}\")\n",
        "  print(f\"Best F1 score from Round 2: {grid2.best_score_:.4f}\")\n",
        "  print()\n",
        "  \n",
        "  # Round 3: Fine-tuning if needed\n",
        "  print(\"Round 3: Fine-tuning\")\n",
        "  print(\"=\" * 60)\n",
        "  \n",
        "  dt3 = DecisionTreeClassifier(random_state=0)\n",
        "  \n",
        "  # Very fine-grained search around the best parameters\n",
        "  param_grid3 = {\n",
        "    'max_depth': [grid2.best_params_['max_depth'] - 2, \n",
        "                  grid2.best_params_['max_depth'] - 1,\n",
        "                  grid2.best_params_['max_depth'],\n",
        "                  grid2.best_params_['max_depth'] + 1,\n",
        "                  grid2.best_params_['max_depth'] + 2],\n",
        "    'min_samples_split': [2, 3, 4],\n",
        "    'min_samples_leaf': [1, 2],\n",
        "    'criterion': [grid2.best_params_['criterion']],\n",
        "    'max_leaf_nodes': [grid2.best_params_['max_leaf_nodes']],\n",
        "    'min_impurity_decrease': [0.0, 0.00005, 0.0001],\n",
        "    'ccp_alpha': [0.0, 0.0001, 0.0005]\n",
        "  }\n",
        "  \n",
        "  grid3 = GridSearchCV(dt3, param_grid3, cv=5, scoring='f1', n_jobs=-1, verbose=1)\n",
        "  grid3.fit(X_train, y_bool_train)\n",
        "  \n",
        "  print(f\"Best parameters from Round 3: {grid3.best_params_}\")\n",
        "  print(f\"Best F1 score from Round 3: {grid3.best_score_:.4f}\")\n",
        "  print()\n",
        "  \n",
        "  return grid3"
      ]
    },
    {
      "cell_type": "code",
      "execution_count": 30,
      "metadata": {
        "id": "7-n7mbTLg1_j"
      },
      "outputs": [
        {
          "name": "stdout",
          "output_type": "stream",
          "text": [
            "Round 1: Broad parameter search\n",
            "============================================================\n",
            "Fitting 5 folds for each of 224 candidates, totalling 1120 fits\n",
            "Best parameters from Round 1: {'criterion': 'entropy', 'max_depth': 15, 'min_samples_leaf': 8, 'min_samples_split': 20}\n",
            "Best F1 score from Round 1: 0.8594\n",
            "\n",
            "Round 2: Refined parameter search\n",
            "============================================================\n",
            "Fitting 5 folds for each of 900 candidates, totalling 4500 fits\n",
            "Best parameters from Round 2: {'criterion': 'entropy', 'max_depth': 15, 'max_leaf_nodes': 150, 'min_impurity_decrease': 0.0, 'min_samples_leaf': 3, 'min_samples_split': 2}\n",
            "Best F1 score from Round 2: 0.8653\n",
            "\n",
            "Round 3: Fine-tuning\n",
            "============================================================\n",
            "Fitting 5 folds for each of 270 candidates, totalling 1350 fits\n",
            "Best parameters from Round 3: {'ccp_alpha': 0.0, 'criterion': 'entropy', 'max_depth': 14, 'max_leaf_nodes': 150, 'min_impurity_decrease': 0.0, 'min_samples_leaf': 1, 'min_samples_split': 2}\n",
            "Best F1 score from Round 3: 0.8651\n",
            "\n"
          ]
        }
      ],
      "source": [
        "dt_model=Q2bo()"
      ]
    },
    {
      "cell_type": "code",
      "execution_count": 31,
      "metadata": {
        "id": "SMT7C4-0g2EX"
      },
      "outputs": [],
      "source": [
        "#TODO\n",
        "def Q2b():\n",
        "  # Get the best parameters from the grid search\n",
        "  best_params = dt_model.best_params_\n",
        "  \n",
        "  # Get the mean CV score with the best parameters\n",
        "  mean_cv_score = dt_model.best_score_\n",
        "  \n",
        "  # Get the score on testing data\n",
        "  test_score = dt_model.score(X_test, y_bool_test)\n",
        "  \n",
        "  return (best_params, mean_cv_score, test_score)"
      ]
    },
    {
      "cell_type": "code",
      "execution_count": 32,
      "metadata": {
        "id": "GKjXvg8Kg-39"
      },
      "outputs": [
        {
          "data": {
            "text/plain": [
              "({'ccp_alpha': 0.0,\n",
              "  'criterion': 'entropy',\n",
              "  'max_depth': 14,\n",
              "  'max_leaf_nodes': 150,\n",
              "  'min_impurity_decrease': 0.0,\n",
              "  'min_samples_leaf': 1,\n",
              "  'min_samples_split': 2},\n",
              " np.float64(0.8650585898893131),\n",
              " 0.8628404669260701)"
            ]
          },
          "execution_count": 32,
          "metadata": {},
          "output_type": "execute_result"
        }
      ],
      "source": [
        "Q2b()"
      ]
    },
    {
      "cell_type": "markdown",
      "metadata": {
        "id": "lgmW9dIuvk7c"
      },
      "source": [
        "# Q3."
      ]
    },
    {
      "cell_type": "markdown",
      "metadata": {
        "id": "eNSb4hbkvk7c"
      },
      "source": [
        "### Q3a."
      ]
    },
    {
      "cell_type": "code",
      "execution_count": 33,
      "metadata": {
        "id": "KjBrOKJ4vk7c"
      },
      "outputs": [],
      "source": [
        "#TODO\n",
        "def Q3a():\n",
        "  from sklearn.ensemble import VotingClassifier, RandomForestClassifier\n",
        "  from sklearn.model_selection import cross_val_score\n",
        "  import numpy as np\n",
        "  \n",
        "  # Create 5 Random Forest classifiers with max_depth=5 and different n_estimators\n",
        "  rf1 = RandomForestClassifier(n_estimators=5, max_depth=5, random_state=0)\n",
        "  rf2 = RandomForestClassifier(n_estimators=10, max_depth=5, random_state=0)\n",
        "  rf3 = RandomForestClassifier(n_estimators=15, max_depth=5, random_state=0)\n",
        "  rf4 = RandomForestClassifier(n_estimators=20, max_depth=5, random_state=0)\n",
        "  rf5 = RandomForestClassifier(n_estimators=25, max_depth=5, random_state=0)\n",
        "  \n",
        "  # Create voting classifier\n",
        "  voting_clf = VotingClassifier(\n",
        "    estimators=[\n",
        "      ('rf1', rf1),\n",
        "      ('rf2', rf2),\n",
        "      ('rf3', rf3),\n",
        "      ('rf4', rf4),\n",
        "      ('rf5', rf5)\n",
        "    ],\n",
        "    voting='hard'\n",
        "  )\n",
        "  \n",
        "  # Perform cross-validation\n",
        "  cv_scores = cross_val_score(voting_clf, X_train, y_bool_train, cv=5, scoring='f1')\n",
        "  mean_cv_score = np.mean(cv_scores)\n",
        "  \n",
        "  return mean_cv_score"
      ]
    },
    {
      "cell_type": "code",
      "execution_count": 34,
      "metadata": {
        "id": "XCxch4uFj4s-"
      },
      "outputs": [
        {
          "data": {
            "text/plain": [
              "np.float64(0.8324113301622751)"
            ]
          },
          "execution_count": 34,
          "metadata": {},
          "output_type": "execute_result"
        }
      ],
      "source": [
        "Q3a()"
      ]
    },
    {
      "cell_type": "markdown",
      "metadata": {
        "id": "Y8bHXLm0vk7c"
      },
      "source": [
        "### Q3b."
      ]
    },
    {
      "cell_type": "code",
      "execution_count": 35,
      "metadata": {
        "id": "YaKon2S1vk7c"
      },
      "outputs": [],
      "source": [
        "#TODO\n",
        "def Q3b():\n",
        "  from sklearn.ensemble import VotingClassifier\n",
        "  from sklearn.neighbors import KNeighborsClassifier\n",
        "  from sklearn.model_selection import cross_val_score\n",
        "  import numpy as np\n",
        "  \n",
        "  # Create 5 KNN classifiers with different n_neighbors\n",
        "  knn1 = KNeighborsClassifier(n_neighbors=1)\n",
        "  knn2 = KNeighborsClassifier(n_neighbors=2)\n",
        "  knn3 = KNeighborsClassifier(n_neighbors=3)\n",
        "  knn4 = KNeighborsClassifier(n_neighbors=4)\n",
        "  knn5 = KNeighborsClassifier(n_neighbors=5)\n",
        "  \n",
        "  # Create voting classifier\n",
        "  voting_clf = VotingClassifier(\n",
        "    estimators=[\n",
        "      ('knn1', knn1),\n",
        "      ('knn2', knn2),\n",
        "      ('knn3', knn3),\n",
        "      ('knn4', knn4),\n",
        "      ('knn5', knn5)\n",
        "    ],\n",
        "    voting='hard'\n",
        "  )\n",
        "  \n",
        "  # Perform cross-validation\n",
        "  cv_scores = cross_val_score(voting_clf, X_train, y_bool_train, cv=5, scoring='f1')\n",
        "  mean_cv_score = np.mean(cv_scores)\n",
        "  \n",
        "  return mean_cv_score"
      ]
    },
    {
      "cell_type": "code",
      "execution_count": 36,
      "metadata": {
        "id": "Wc120OIYhKeG"
      },
      "outputs": [
        {
          "data": {
            "text/plain": [
              "np.float64(0.5830945188193506)"
            ]
          },
          "execution_count": 36,
          "metadata": {},
          "output_type": "execute_result"
        }
      ],
      "source": [
        "Q3b()"
      ]
    },
    {
      "cell_type": "markdown",
      "metadata": {
        "id": "IT83VAIHvk7d"
      },
      "source": [
        "### Q3c."
      ]
    },
    {
      "cell_type": "code",
      "execution_count": 37,
      "metadata": {
        "id": "Twn-l2msvk7j"
      },
      "outputs": [],
      "source": [
        "#TODO\n",
        "def Q3c():\n",
        "  from sklearn.ensemble import BaggingClassifier\n",
        "  from sklearn.model_selection import GridSearchCV\n",
        "  import numpy as np\n",
        "  \n",
        "  # Get the best decision tree model from Q2b\n",
        "  best_dt = dt_model.best_estimator_\n",
        "  \n",
        "  # Create BaggingClassifier with the best decision tree as base estimator\n",
        "  bagging_clf = BaggingClassifier(estimator=best_dt, random_state=0)\n",
        "  \n",
        "  # Define parameter grid for max_features\n",
        "  param_grid = {\n",
        "    'max_features': np.arange(0.1, 1.0, 0.1)\n",
        "  }\n",
        "  \n",
        "  # Perform grid search\n",
        "  grid_search = GridSearchCV(bagging_clf, param_grid, cv=5, scoring='f1', n_jobs=-1)\n",
        "  grid_search.fit(X_train, y_bool_train)\n",
        "  \n",
        "  # Get best max_features value\n",
        "  best_max_features = grid_search.best_params_['max_features']\n",
        "  \n",
        "  # Get score on testing data\n",
        "  test_score = grid_search.score(X_test, y_bool_test)\n",
        "  \n",
        "  return (best_max_features, test_score)"
      ]
    },
    {
      "cell_type": "code",
      "execution_count": 38,
      "metadata": {
        "id": "NyzMQUfBhRsV"
      },
      "outputs": [
        {
          "data": {
            "text/plain": [
              "(np.float64(0.8), 0.8806706114398422)"
            ]
          },
          "execution_count": 38,
          "metadata": {},
          "output_type": "execute_result"
        }
      ],
      "source": [
        "Q3c()"
      ]
    },
    {
      "cell_type": "markdown",
      "metadata": {
        "id": "1Xx6JWUlvk7j"
      },
      "source": [
        "### Q3d."
      ]
    },
    {
      "cell_type": "code",
      "execution_count": 39,
      "metadata": {
        "id": "a-inCbMCvk7j"
      },
      "outputs": [],
      "source": [
        "#TODO\n",
        "def Q3d():\n",
        "  from sklearn.ensemble import (\n",
        "    RandomForestClassifier, \n",
        "    AdaBoostClassifier, \n",
        "    GradientBoostingClassifier,\n",
        "    ExtraTreesClassifier,\n",
        "    HistGradientBoostingClassifier\n",
        "  )\n",
        "  from sklearn.model_selection import cross_val_score\n",
        "  import numpy as np\n",
        "  \n",
        "  # Define 5 packaged ensemble models\n",
        "  models = [\n",
        "    ('Random Forest', RandomForestClassifier(random_state=0)),\n",
        "    ('AdaBoost', AdaBoostClassifier(random_state=0)),\n",
        "    ('Gradient Boosting', GradientBoostingClassifier(random_state=0)),\n",
        "    ('Extra Trees', ExtraTreesClassifier(random_state=0)),\n",
        "    ('Histogram-based Gradient Boosting', HistGradientBoostingClassifier(random_state=0))\n",
        "  ]\n",
        "  \n",
        "  # Test performance of each model using cross-validation\n",
        "  results = []\n",
        "  for name, model in models:\n",
        "    cv_scores = cross_val_score(model, X_train, y_bool_train, cv=5, scoring='f1')\n",
        "    mean_cv_score = np.mean(cv_scores)\n",
        "    results.append((name, mean_cv_score))\n",
        "  \n",
        "  return results"
      ]
    },
    {
      "cell_type": "code",
      "execution_count": null,
      "metadata": {
        "id": "_ncxtSQ5hepQ"
      },
      "outputs": [
        {
          "data": {
            "text/plain": [
              "[('Random Forest', np.float64(0.8903432230419529)),\n",
              " ('AdaBoost', np.float64(0.8454683455396491)),\n",
              " ('Gradient Boosting', np.float64(0.8854707221417456)),\n",
              " ('Extra Trees', np.float64(0.8948809105643931)),\n",
              " ('Histogram-based Gradient Boosting', np.float64(0.9006012668681576))]"
            ]
          },
          "execution_count": 40,
          "metadata": {},
          "output_type": "execute_result"
        },
        {
          "name": "stderr",
          "output_type": "stream",
          "text": [
            "Exception ignored in: <function ResourceTracker.__del__ at 0x1207d1bc0>\n",
            "Traceback (most recent call last):\n",
            "  File \"/opt/anaconda3/lib/python3.13/multiprocessing/resource_tracker.py\", line 82, in __del__\n",
            "  File \"/opt/anaconda3/lib/python3.13/multiprocessing/resource_tracker.py\", line 91, in _stop\n",
            "  File \"/opt/anaconda3/lib/python3.13/multiprocessing/resource_tracker.py\", line 116, in _stop_locked\n",
            "ChildProcessError: [Errno 10] No child processes\n",
            "Exception ignored in: <function ResourceTracker.__del__ at 0x104a65bc0>\n",
            "Traceback (most recent call last):\n",
            "  File \"/opt/anaconda3/lib/python3.13/multiprocessing/resource_tracker.py\", line 82, in __del__\n",
            "  File \"/opt/anaconda3/lib/python3.13/multiprocessing/resource_tracker.py\", line 91, in _stop\n",
            "  File \"/opt/anaconda3/lib/python3.13/multiprocessing/resource_tracker.py\", line 116, in _stop_locked\n",
            "ChildProcessError: [Errno 10] No child processes\n",
            "Exception ignored in: <function ResourceTracker.__del__ at 0x1051d1bc0>\n",
            "Traceback (most recent call last):\n",
            "  File \"/opt/anaconda3/lib/python3.13/multiprocessing/resource_tracker.py\", line 82, in __del__\n",
            "  File \"/opt/anaconda3/lib/python3.13/multiprocessing/resource_tracker.py\", line 91, in _stop\n",
            "  File \"/opt/anaconda3/lib/python3.13/multiprocessing/resource_tracker.py\", line 116, in _stop_locked\n",
            "ChildProcessError: [Errno 10] No child processes\n",
            "Exception ignored in: <function ResourceTracker.__del__ at 0x106fd1bc0>\n",
            "Traceback (most recent call last):\n",
            "  File \"/opt/anaconda3/lib/python3.13/multiprocessing/resource_tracker.py\", line 82, in __del__\n",
            "  File \"/opt/anaconda3/lib/python3.13/multiprocessing/resource_tracker.py\", line 91, in _stop\n",
            "  File \"/opt/anaconda3/lib/python3.13/multiprocessing/resource_tracker.py\", line 116, in _stop_locked\n",
            "ChildProcessError: [Errno 10] No child processes\n",
            "Exception ignored in: <function ResourceTracker.__del__ at 0x105751bc0>\n",
            "Traceback (most recent call last):\n",
            "  File \"/opt/anaconda3/lib/python3.13/multiprocessing/resource_tracker.py\", line 82, in __del__\n",
            "  File \"/opt/anaconda3/lib/python3.13/multiprocessing/resource_tracker.py\", line 91, in _stop\n",
            "  File \"/opt/anaconda3/lib/python3.13/multiprocessing/resource_tracker.py\", line 116, in _stop_locked\n",
            "ChildProcessError: [Errno 10] No child processes\n",
            "Exception ignored in: <function ResourceTracker.__del__ at 0x1070e5bc0>\n",
            "Traceback (most recent call last):\n",
            "  File \"/opt/anaconda3/lib/python3.13/multiprocessing/resource_tracker.py\", line 82, in __del__\n",
            "  File \"/opt/anaconda3/lib/python3.13/multiprocessing/resource_tracker.py\", line 91, in _stop\n",
            "  File \"/opt/anaconda3/lib/python3.13/multiprocessing/resource_tracker.py\", line 116, in _stop_locked\n",
            "ChildProcessError: [Errno 10] No child processes\n",
            "Exception ignored in: <function ResourceTracker.__del__ at 0x108991bc0>\n",
            "Traceback (most recent call last):\n",
            "  File \"/opt/anaconda3/lib/python3.13/multiprocessing/resource_tracker.py\", line 82, in __del__\n",
            "  File \"/opt/anaconda3/lib/python3.13/multiprocessing/resource_tracker.py\", line 91, in _stop\n",
            "  File \"/opt/anaconda3/lib/python3.13/multiprocessing/resource_tracker.py\", line 116, in _stop_locked\n",
            "ChildProcessError: [Errno 10] No child processes\n",
            "Exception ignored in: <function ResourceTracker.__del__ at 0x1211cdbc0>\n",
            "Traceback (most recent call last):\n",
            "  File \"/opt/anaconda3/lib/python3.13/multiprocessing/resource_tracker.py\", line 82, in __del__\n",
            "  File \"/opt/anaconda3/lib/python3.13/multiprocessing/resource_tracker.py\", line 91, in _stop\n",
            "  File \"/opt/anaconda3/lib/python3.13/multiprocessing/resource_tracker.py\", line 116, in _stop_locked\n",
            "ChildProcessError: [Errno 10] No child processes\n",
            "Exception ignored in: <function ResourceTracker.__del__ at 0x107739bc0>\n",
            "Traceback (most recent call last):\n",
            "  File \"/opt/anaconda3/lib/python3.13/multiprocessing/resource_tracker.py\", line 82, in __del__\n",
            "  File \"/opt/anaconda3/lib/python3.13/multiprocessing/resource_tracker.py\", line 91, in _stop\n",
            "  File \"/opt/anaconda3/lib/python3.13/multiprocessing/resource_tracker.py\", line 116, in _stop_locked\n",
            "ChildProcessError: [Errno 10] No child processes\n",
            "Exception ignored in: <function ResourceTracker.__del__ at 0x1039d1bc0>\n",
            "Traceback (most recent call last):\n",
            "  File \"/opt/anaconda3/lib/python3.13/multiprocessing/resource_tracker.py\", line 82, in __del__\n",
            "  File \"/opt/anaconda3/lib/python3.13/multiprocessing/resource_tracker.py\", line 91, in _stop\n",
            "  File \"/opt/anaconda3/lib/python3.13/multiprocessing/resource_tracker.py\", line 116, in _stop_locked\n",
            "ChildProcessError: [Errno 10] No child processes\n"
          ]
        }
      ],
      "source": [
        "Q3d()"
      ]
    }
  ],
  "metadata": {
    "colab": {
      "include_colab_link": true,
      "provenance": []
    },
    "kernelspec": {
      "display_name": "base",
      "language": "python",
      "name": "python3"
    },
    "language_info": {
      "codemirror_mode": {
        "name": "ipython",
        "version": 3
      },
      "file_extension": ".py",
      "mimetype": "text/x-python",
      "name": "python",
      "nbconvert_exporter": "python",
      "pygments_lexer": "ipython3",
      "version": "3.13.5"
    }
  },
  "nbformat": 4,
  "nbformat_minor": 0
}
