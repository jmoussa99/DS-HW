{
  "cells": [
    {
      "cell_type": "markdown",
      "metadata": {
        "id": "view-in-github",
        "colab_type": "text"
      },
      "source": [
        "<a href=\"https://colab.research.google.com/github/jmoussa99/DS-HW/blob/main/HW3.ipynb\" target=\"_parent\"><img src=\"https://colab.research.google.com/assets/colab-badge.svg\" alt=\"Open In Colab\"/></a>"
      ]
    },
    {
      "cell_type": "markdown",
      "source": [
        "## [Jamal Moussa, XRZ2515]"
      ],
      "metadata": {
        "id": "7md5x4TdByf8"
      }
    },
    {
      "cell_type": "markdown",
      "metadata": {
        "id": "43jhufm2vk7W"
      },
      "source": [
        "# Obtain the data"
      ]
    },
    {
      "cell_type": "code",
      "execution_count": null,
      "metadata": {
        "id": "5LQHoJwTvk7X"
      },
      "outputs": [],
      "source": [
        "#Run this code block, Don't change anything\n",
        "from sklearn import datasets\n",
        "from sklearn.model_selection import train_test_split\n",
        "cal = datasets.fetch_california_housing()\n",
        "X = cal.data\n",
        "y = cal.target\n",
        "X_train, X_test, y_train, y_test = train_test_split(X,y,test_size=0.2,random_state=0)\n",
        "y_bool_train = [i > 1.8 for i in y_train]\n",
        "y_bool_test = [i > 1.8 for i in y_test]"
      ]
    },
    {
      "cell_type": "markdown",
      "metadata": {
        "id": "y63gtwZXvk7Y"
      },
      "source": [
        "# Q1"
      ]
    },
    {
      "cell_type": "markdown",
      "metadata": {
        "id": "MXbOte8bvk7Y"
      },
      "source": [
        "### Q1a."
      ]
    },
    {
      "cell_type": "code",
      "execution_count": null,
      "metadata": {
        "id": "t8Sxe3HNvk7Z"
      },
      "outputs": [],
      "source": [
        "#TODO\n",
        "def Q1o():\n",
        "  pass"
      ]
    },
    {
      "cell_type": "code",
      "source": [
        "gbr_model=Q1o()"
      ],
      "metadata": {
        "id": "UlIE2ElJfzX_"
      },
      "execution_count": null,
      "outputs": []
    },
    {
      "cell_type": "code",
      "source": [
        "#TODO\n",
        "def Q1a():\n",
        "  pass"
      ],
      "metadata": {
        "id": "Eg9v41Q2f8b2"
      },
      "execution_count": null,
      "outputs": []
    },
    {
      "cell_type": "code",
      "source": [
        "Q1a()"
      ],
      "metadata": {
        "id": "86lfcxkHf_eK"
      },
      "execution_count": null,
      "outputs": []
    },
    {
      "cell_type": "markdown",
      "metadata": {
        "id": "EzQGNe_qvk7a"
      },
      "source": [
        "### Q1b."
      ]
    },
    {
      "cell_type": "markdown",
      "metadata": {
        "id": "ff44sT38vk7a"
      },
      "source": [
        "#### plot"
      ]
    },
    {
      "cell_type": "code",
      "execution_count": null,
      "metadata": {
        "id": "kxL0UkE-vk7a"
      },
      "outputs": [],
      "source": [
        "#TODO\n",
        "def Q1b():\n",
        "  pass"
      ]
    },
    {
      "cell_type": "code",
      "source": [
        "Q1b()"
      ],
      "metadata": {
        "id": "l5ctKtcsgU3b"
      },
      "execution_count": null,
      "outputs": []
    },
    {
      "cell_type": "markdown",
      "metadata": {
        "id": "BHEejcBOvk7a"
      },
      "source": [
        "#### conclusion"
      ]
    },
    {
      "cell_type": "code",
      "execution_count": null,
      "metadata": {
        "id": "RnEVg9civk7b"
      },
      "outputs": [],
      "source": [
        "#TODO\n",
        "def Q1b_finding():\n",
        "  finding=\"\"\n",
        "  return finding"
      ]
    },
    {
      "cell_type": "code",
      "source": [
        "Q1b_finding()"
      ],
      "metadata": {
        "id": "GIYCp_C2gfu-"
      },
      "execution_count": null,
      "outputs": []
    },
    {
      "cell_type": "markdown",
      "metadata": {
        "id": "VpETIf60vk7b"
      },
      "source": [
        "### Q1c."
      ]
    },
    {
      "cell_type": "code",
      "execution_count": null,
      "metadata": {
        "id": "3JBLBautvk7b"
      },
      "outputs": [],
      "source": [
        "#TODO\n",
        "def Q1c_finding():\n",
        "  finding=\"\"\n",
        "  return finding"
      ]
    },
    {
      "cell_type": "code",
      "source": [
        "Q1c_finding()"
      ],
      "metadata": {
        "id": "Dxi74nnkgoQC"
      },
      "execution_count": null,
      "outputs": []
    },
    {
      "cell_type": "markdown",
      "metadata": {
        "id": "-lxz1xQZvk7b"
      },
      "source": [
        "# Q2."
      ]
    },
    {
      "cell_type": "markdown",
      "metadata": {
        "id": "E0PWz4h5vk7b"
      },
      "source": [
        "### Q2a."
      ]
    },
    {
      "cell_type": "code",
      "execution_count": null,
      "metadata": {
        "id": "NkaeTDWcvk7b"
      },
      "outputs": [],
      "source": [
        "#TODO\n",
        "def Q2a():\n",
        "  pass"
      ]
    },
    {
      "cell_type": "code",
      "source": [
        "Q2a()"
      ],
      "metadata": {
        "id": "-3E7cKbOgwCO"
      },
      "execution_count": null,
      "outputs": []
    },
    {
      "cell_type": "markdown",
      "metadata": {
        "id": "ALRbNlahvk7b"
      },
      "source": [
        "### Q2b."
      ]
    },
    {
      "cell_type": "code",
      "execution_count": null,
      "metadata": {
        "id": "F7-ITRybvk7c"
      },
      "outputs": [],
      "source": [
        "#TODO\n",
        "def Q2bo():\n",
        "  pass"
      ]
    },
    {
      "cell_type": "code",
      "source": [
        "dt_model=Q2bo()"
      ],
      "metadata": {
        "id": "7-n7mbTLg1_j"
      },
      "execution_count": null,
      "outputs": []
    },
    {
      "cell_type": "code",
      "source": [
        "#TODO\n",
        "def Q2b():\n",
        "  pass"
      ],
      "metadata": {
        "id": "SMT7C4-0g2EX"
      },
      "execution_count": null,
      "outputs": []
    },
    {
      "cell_type": "code",
      "source": [
        "Q2b()"
      ],
      "metadata": {
        "id": "GKjXvg8Kg-39"
      },
      "execution_count": null,
      "outputs": []
    },
    {
      "cell_type": "markdown",
      "metadata": {
        "id": "lgmW9dIuvk7c"
      },
      "source": [
        "# Q3."
      ]
    },
    {
      "cell_type": "markdown",
      "metadata": {
        "id": "eNSb4hbkvk7c"
      },
      "source": [
        "### Q3a."
      ]
    },
    {
      "cell_type": "code",
      "execution_count": null,
      "metadata": {
        "id": "KjBrOKJ4vk7c"
      },
      "outputs": [],
      "source": [
        "#TODO\n",
        "def Q3a():\n",
        "  pass"
      ]
    },
    {
      "cell_type": "code",
      "source": [
        "Q3a()"
      ],
      "metadata": {
        "id": "XCxch4uFj4s-"
      },
      "execution_count": null,
      "outputs": []
    },
    {
      "cell_type": "markdown",
      "metadata": {
        "id": "Y8bHXLm0vk7c"
      },
      "source": [
        "### Q3b."
      ]
    },
    {
      "cell_type": "code",
      "execution_count": null,
      "metadata": {
        "id": "YaKon2S1vk7c"
      },
      "outputs": [],
      "source": [
        "#TODO\n",
        "def Q3b():\n",
        "  pass"
      ]
    },
    {
      "cell_type": "code",
      "source": [
        "Q3b()"
      ],
      "metadata": {
        "id": "Wc120OIYhKeG"
      },
      "execution_count": null,
      "outputs": []
    },
    {
      "cell_type": "markdown",
      "metadata": {
        "id": "IT83VAIHvk7d"
      },
      "source": [
        "### Q3c."
      ]
    },
    {
      "cell_type": "code",
      "execution_count": null,
      "metadata": {
        "id": "Twn-l2msvk7j"
      },
      "outputs": [],
      "source": [
        "#TODO\n",
        "def Q3c():\n",
        "  pass"
      ]
    },
    {
      "cell_type": "code",
      "source": [
        "Q3c()"
      ],
      "metadata": {
        "id": "NyzMQUfBhRsV"
      },
      "execution_count": null,
      "outputs": []
    },
    {
      "cell_type": "markdown",
      "metadata": {
        "id": "1Xx6JWUlvk7j"
      },
      "source": [
        "### Q3d."
      ]
    },
    {
      "cell_type": "code",
      "execution_count": null,
      "metadata": {
        "id": "a-inCbMCvk7j"
      },
      "outputs": [],
      "source": [
        "#TODO\n",
        "def Q3d():\n",
        "  pass"
      ]
    },
    {
      "cell_type": "code",
      "source": [
        "Q3d()"
      ],
      "metadata": {
        "id": "_ncxtSQ5hepQ"
      },
      "execution_count": null,
      "outputs": []
    }
  ],
  "metadata": {
    "kernelspec": {
      "display_name": "Python 3 (ipykernel)",
      "language": "python",
      "name": "python3"
    },
    "language_info": {
      "codemirror_mode": {
        "name": "ipython",
        "version": 3
      },
      "file_extension": ".py",
      "mimetype": "text/x-python",
      "name": "python",
      "nbconvert_exporter": "python",
      "pygments_lexer": "ipython3",
      "version": "3.9.12"
    },
    "colab": {
      "provenance": [],
      "include_colab_link": true
    }
  },
  "nbformat": 4,
  "nbformat_minor": 0
}